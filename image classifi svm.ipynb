{
 "cells": [
  {
   "cell_type": "code",
   "execution_count": 1,
   "id": "a1a344b3",
   "metadata": {
    "scrolled": true
   },
   "outputs": [
    {
     "name": "stdout",
     "output_type": "stream",
     "text": [
      "Requirement already satisfied: opencv-python in c:\\users\\sejal\\anaconda3\\lib\\site-packages (4.6.0.66)\n",
      "Requirement already satisfied: numpy>=1.17.3 in c:\\users\\sejal\\anaconda3\\lib\\site-packages (from opencv-python) (1.21.5)\n"
     ]
    }
   ],
   "source": [
    "!pip install opencv-python"
   ]
  },
  {
   "cell_type": "code",
   "execution_count": 8,
   "id": "7c3b701f",
   "metadata": {},
   "outputs": [],
   "source": [
    "import numpy as np\n",
    "import pandas as pd\n",
    "import matplotlib.pyplot as plt\n",
    "#for splitting the data\n",
    "from sklearn.model_selection import train_test_split\n",
    "from sklearn.metrics import accuracy_score\n",
    "import cv2"
   ]
  },
  {
   "cell_type": "code",
   "execution_count": 2,
   "id": "5287a65b",
   "metadata": {
    "scrolled": false
   },
   "outputs": [
    {
     "name": "stdout",
     "output_type": "stream",
     "text": [
      "C:\\Users\\sejal\\Desktop\\svm\n",
      "---------------------------------------------------------------------------------------\n",
      "'files and directories in' C:\\Users\\sejal\\Desktop\\svm\\Lung Disease Dataset\\train ':'\n",
      "['Bacterial Pneumonia', 'Corona Virus Disease', 'Normal', 'Tuberculosis', 'Viral Pneumonia']\n"
     ]
    }
   ],
   "source": [
    "import os\n",
    "\n",
    "#path of the cwd.\n",
    "path=os.getcwd()\n",
    "print(path)\n",
    "\n",
    "#to get the list of all the files/directories in the cwd.\n",
    "dir_list = os.listdir(r'C:\\Users\\sejal\\Desktop\\svm\\Lung Disease Dataset\\train')\n",
    "\n",
    "print(\"---------------------------------------------------------------------------------------\")\n",
    "\n",
    "print(\"'files and directories in'\",r'C:\\Users\\sejal\\Desktop\\svm\\Lung Disease Dataset\\train',\"':'\")\n",
    "print(dir_list)\n",
    "\n",
    "classes = {'bacterial_pneumonia':1,'corona_virus':2,'normal':0,'tuberculosis':3,'viral_pneumonia':4}"
   ]
  },
  {
   "cell_type": "code",
   "execution_count": 6,
   "id": "03091acf",
   "metadata": {
    "scrolled": false
   },
   "outputs": [
    {
     "name": "stdout",
     "output_type": "stream",
     "text": [
      "bacterial_pneumonia\n",
      "corona_virus\n",
      "normal\n",
      "tuberculosis\n",
      "viral_pneumonia\n"
     ]
    }
   ],
   "source": [
    "import cv2\n",
    "\n",
    "#X and Y are lists.\n",
    "X = []\n",
    "Y = []\n",
    "\n",
    "for cls in classes:\n",
    "    \n",
    "    if cls==\"bacterial_pneumonia\":\n",
    "       pth=r\"C:\\Users\\sejal\\Desktop\\svm\\Lung Disease Dataset\\train\\Bacterial Pneumonia\"\n",
    "    elif cls==\"corona_virus\":\n",
    "       pth=r\"C:\\Users\\sejal\\Desktop\\svm\\Lung Disease Dataset\\train\\Corona Virus Disease\"\n",
    "    elif cls==\"normal\":\n",
    "       pth=r\"C:\\Users\\sejal\\Desktop\\svm\\Lung Disease Dataset\\train\\Normal\"\n",
    "    elif cls==\"tuberculosis\":\n",
    "       pth=r\"C:\\Users\\sejal\\Desktop\\svm\\Lung Disease Dataset\\train\\Tuberculosis\"\n",
    "    elif cls==\"viral_pneumonia\":\n",
    "       pth=r\"C:\\\\Users\\\\sejal\\\\Desktop\\\\svm\\\\Lung Disease Dataset\\\\train\\\\Viral Pneumonia\"\n",
    "    \n",
    "    print(cls)\n",
    "\n",
    "        \n",
    "    for j in os.listdir(pth):\n",
    "        img = cv2.imread(pth+'/'+j,0)\n",
    "        # 0 here is to read image in grayscale mode.\n",
    "     #\n",
    "        img = cv2.resize(img,(200,200))\n",
    "        #(200,200) follows the order (width,height).\n",
    "        \n",
    "        #append() inserts its argument as a single element to the end of the list.\n",
    "        #the length of the list increases by one.\n",
    "        X.append(img)\n",
    "        Y.append(classes[cls])"
   ]
  },
  {
   "cell_type": "code",
   "execution_count": 14,
   "id": "3a4fea50",
   "metadata": {
    "scrolled": true
   },
   "outputs": [
    {
     "name": "stdout",
     "output_type": "stream",
     "text": [
      "[[[ 43  46  49 ...  19  24  69]\n",
      "  [ 43  47  49 ...  20  23  63]\n",
      "  [ 44  47  50 ...  20  22  55]\n",
      "  ...\n",
      "  [ 22  22  21 ...  24  27  30]\n",
      "  [ 21  22  21 ...  24  27  30]\n",
      "  [ 21  22  21 ...  24  27  30]]\n",
      "\n",
      " [[  2   2   2 ...  20  20  20]\n",
      "  [  2   2   2 ...  20  20  20]\n",
      "  [  3   3   3 ...  20  20  20]\n",
      "  ...\n",
      "  [  8   6   8 ...  15  15  14]\n",
      "  [  8   5   7 ...  15  14  14]\n",
      "  [  8   5   7 ...  15  14  14]]\n",
      "\n",
      " [[ 64  52  49 ...   0   0   0]\n",
      "  [ 62  52  48 ...   0   0   0]\n",
      "  [ 57  53  47 ...   0   0   0]\n",
      "  ...\n",
      "  [ 32  38  35 ...  47  47  47]\n",
      "  [ 31  38  34 ...  47  47  47]\n",
      "  [ 31  40  34 ...  47  47  47]]\n",
      "\n",
      " ...\n",
      "\n",
      " [[ 87  91  93 ...  78  76  75]\n",
      "  [ 91  98  96 ...  83  80  77]\n",
      "  [ 92  98  96 ...  85  83  83]\n",
      "  ...\n",
      "  [  0   0   0 ...   0   0   0]\n",
      "  [  0   0   0 ...   0   0   0]\n",
      "  [  0   0   0 ...   0   0   0]]\n",
      "\n",
      " [[ 83  84  87 ... 119 114 112]\n",
      "  [ 80  81  87 ... 123 123 115]\n",
      "  [ 78  84  82 ...  96 104 120]\n",
      "  ...\n",
      "  [  4   4   3 ...  69  46  36]\n",
      "  [  4   4   3 ...  72  51  38]\n",
      "  [  3   3   3 ...  73  58  40]]\n",
      "\n",
      " [[  2   1   1 ...   2   2   2]\n",
      "  [  2   1   1 ...   2   2   2]\n",
      "  [  3   3   2 ...   2   2   2]\n",
      "  ...\n",
      "  [  2   2   2 ...   1   1   1]\n",
      "  [  2   2   2 ...   1   1   1]\n",
      "  [  2   2   2 ...   1   1   1]]]\n",
      "[1 1 1 ... 4 4 4]\n"
     ]
    }
   ],
   "source": [
    "#the lists(here,X and Y) are passed to the array() method which then returns a NumPy array with the same elements.\n",
    "X = np.array(X)\n",
    "print(np.array(X))\n",
    "Y = np.array(Y)\n",
    "print(np.array(Y))\n",
    "\n",
    "\n",
    "X_updated = X.reshape(len(X), -1)\n"
   ]
  },
  {
   "cell_type": "code",
   "execution_count": 17,
   "id": "7be30030",
   "metadata": {},
   "outputs": [
    {
     "data": {
      "text/plain": [
       "3"
      ]
     },
     "execution_count": 17,
     "metadata": {},
     "output_type": "execute_result"
    }
   ],
   "source": [
    "X.ndim"
   ]
  },
  {
   "cell_type": "code",
   "execution_count": 18,
   "id": "b693380a",
   "metadata": {},
   "outputs": [
    {
     "data": {
      "text/plain": [
       "(6054, 200, 200)"
      ]
     },
     "execution_count": 18,
     "metadata": {},
     "output_type": "execute_result"
    }
   ],
   "source": [
    "X.shape"
   ]
  },
  {
   "cell_type": "code",
   "execution_count": 16,
   "id": "07da7f83",
   "metadata": {},
   "outputs": [
    {
     "data": {
      "text/plain": [
       "(6054, 40000)"
      ]
     },
     "execution_count": 16,
     "metadata": {},
     "output_type": "execute_result"
    }
   ],
   "source": [
    "X_updated.shape"
   ]
  },
  {
   "cell_type": "code",
   "execution_count": 20,
   "id": "9a610e8b",
   "metadata": {},
   "outputs": [
    {
     "data": {
      "text/plain": [
       "array([[43, 46, 49, ..., 24, 27, 30],\n",
       "       [ 2,  2,  2, ..., 15, 14, 14],\n",
       "       [64, 52, 49, ..., 47, 47, 47],\n",
       "       ...,\n",
       "       [87, 91, 93, ...,  0,  0,  0],\n",
       "       [83, 84, 87, ..., 73, 58, 40],\n",
       "       [ 2,  1,  1, ...,  1,  1,  1]], dtype=uint8)"
      ]
     },
     "execution_count": 20,
     "metadata": {},
     "output_type": "execute_result"
    }
   ],
   "source": [
    "np.array(X_updated)"
   ]
  },
  {
   "cell_type": "code",
   "execution_count": 25,
   "id": "8739d7f3",
   "metadata": {},
   "outputs": [
    {
     "data": {
      "text/plain": [
       "1"
      ]
     },
     "execution_count": 25,
     "metadata": {},
     "output_type": "execute_result"
    }
   ],
   "source": [
    "Y.ndim"
   ]
  },
  {
   "cell_type": "code",
   "execution_count": 19,
   "id": "3a300ab1",
   "metadata": {},
   "outputs": [
    {
     "data": {
      "text/plain": [
       "array([0, 1, 2, 3, 4])"
      ]
     },
     "execution_count": 19,
     "metadata": {},
     "output_type": "execute_result"
    }
   ],
   "source": [
    "np.unique(Y)"
   ]
  },
  {
   "cell_type": "code",
   "execution_count": 31,
   "id": "b3f28a10",
   "metadata": {
    "scrolled": true
   },
   "outputs": [
    {
     "data": {
      "text/plain": [
       "3    1220\n",
       "2    1218\n",
       "0    1207\n",
       "1    1205\n",
       "4    1204\n",
       "dtype: int64"
      ]
     },
     "execution_count": 31,
     "metadata": {},
     "output_type": "execute_result"
    }
   ],
   "source": [
    "pd.Series(Y).value_counts()"
   ]
  },
  {
   "cell_type": "code",
   "execution_count": 13,
   "id": "af6a86a8",
   "metadata": {
    "scrolled": false
   },
   "outputs": [
    {
     "data": {
      "text/plain": [
       "((6054, 200, 200), (6054, 40000))"
      ]
     },
     "execution_count": 13,
     "metadata": {},
     "output_type": "execute_result"
    }
   ],
   "source": [
    "X.shape, X_updated.shape"
   ]
  },
  {
   "cell_type": "markdown",
   "id": "f995204c",
   "metadata": {},
   "source": [
    "# Visualise Data"
   ]
  },
  {
   "cell_type": "code",
   "execution_count": 24,
   "id": "a98b7a97",
   "metadata": {
    "scrolled": true
   },
   "outputs": [
    {
     "data": {
      "text/plain": [
       "<matplotlib.image.AxesImage at 0x22649fa5ca0>"
      ]
     },
     "execution_count": 24,
     "metadata": {},
     "output_type": "execute_result"
    },
    {
     "data": {
      "image/png": "[encoded data removed]",
      "text/plain": [
       "<Figure size 432x288 with 1 Axes>"
      ]
     },
     "metadata": {
      "needs_background": "light"
     },
     "output_type": "display_data"
    }
   ],
   "source": [
    "plt.imshow(X[3453], cmap='Greys')"
   ]
  },
  {
   "cell_type": "markdown",
   "id": "b7ecc29a",
   "metadata": {},
   "source": [
    "# Split Data"
   ]
  },
  {
   "cell_type": "code",
   "execution_count": 29,
   "id": "861b00e8",
   "metadata": {
    "scrolled": false
   },
   "outputs": [],
   "source": [
    "xtrain,xtest,ytrain,ytest=train_test_split(X_updated,Y,random_state=10,test_size=.20)"
   ]
  },
  {
   "cell_type": "code",
   "execution_count": 31,
   "id": "0204efdd",
   "metadata": {
    "scrolled": true
   },
   "outputs": [
    {
     "data": {
      "text/plain": [
       "((4843, 40000), (1211, 40000))"
      ]
     },
     "execution_count": 31,
     "metadata": {},
     "output_type": "execute_result"
    }
   ],
   "source": [
    "xtrain.shape,xtest.shape"
   ]
  },
  {
   "cell_type": "code",
   "execution_count": null,
   "id": "563718dc",
   "metadata": {
    "scrolled": false
   },
   "outputs": [],
   "source": []
  },
  {
   "cell_type": "markdown",
   "id": "4174aca2",
   "metadata": {},
   "source": [
    "# Feature Scaling"
   ]
  },
  {
   "cell_type": "code",
   "execution_count": 32,
   "id": "09e2d53c",
   "metadata": {
    "scrolled": true
   },
   "outputs": [
    {
     "name": "stdout",
     "output_type": "stream",
     "text": [
      "255 0\n",
      "255 0\n",
      "1.0 0.0\n",
      "1.0 0.0\n"
     ]
    }
   ],
   "source": [
    "print(xtrain.max(),xtrain.min())\n",
    "print(xtest.max(),xtest.min())\n",
    "xtrain=xtrain/xtrain.max()\n",
    "xtest=xtest/xtest.max()\n",
    "print(xtrain.max(),xtrain.min())\n",
    "print(xtest.max(),xtest.min())"
   ]
  },
  {
   "cell_type": "markdown",
   "id": "4d52fd46",
   "metadata": {},
   "source": [
    "# Feature Selection"
   ]
  },
  {
   "cell_type": "code",
   "execution_count": 18,
   "id": "e820722e",
   "metadata": {},
   "outputs": [],
   "source": [
    "from sklearn.decomposition import PCA"
   ]
  },
  {
   "cell_type": "code",
   "execution_count": 19,
   "id": "58f17cd5",
   "metadata": {},
   "outputs": [
    {
     "name": "stdout",
     "output_type": "stream",
     "text": [
      "(4843, 40000) (1211, 40000)\n"
     ]
    }
   ],
   "source": [
    "print(xtrain.shape, xtest.shape)\n",
    "\n",
    "pca = PCA(.98)\n",
    "\n",
    "pca_train = xtrain\n",
    "pca_test = xtest"
   ]
  },
  {
   "cell_type": "code",
   "execution_count": null,
   "id": "882b91f1",
   "metadata": {},
   "outputs": [],
   "source": []
  },
  {
   "cell_type": "markdown",
   "id": "d6a7f66d",
   "metadata": {},
   "source": [
    "# Train Model"
   ]
  },
  {
   "cell_type": "code",
   "execution_count": 20,
   "id": "0811e80b",
   "metadata": {},
   "outputs": [],
   "source": [
    "from sklearn.linear_model import LogisticRegression\n",
    "from sklearn.svm import SVC"
   ]
  },
  {
   "cell_type": "code",
   "execution_count": 21,
   "id": "ac1c1265",
   "metadata": {},
   "outputs": [
    {
     "data": {
      "text/plain": [
       "LogisticRegression(C=0.1)"
      ]
     },
     "execution_count": 21,
     "metadata": {},
     "output_type": "execute_result"
    }
   ],
   "source": [
    "import warnings\n",
    "warnings.filterwarnings('ignore')\n",
    "\n",
    "lg = LogisticRegression(C=0.1)\n",
    "lg.fit(xtrain, ytrain)"
   ]
  },
  {
   "cell_type": "code",
   "execution_count": 22,
   "id": "348b1826",
   "metadata": {},
   "outputs": [
    {
     "data": {
      "text/plain": [
       "SVC()"
      ]
     },
     "execution_count": 22,
     "metadata": {},
     "output_type": "execute_result"
    }
   ],
   "source": [
    "from sklearn.svm import SVC\n",
    "sv = SVC()\n",
    "sv.fit(xtrain, ytrain)"
   ]
  },
  {
   "cell_type": "markdown",
   "id": "910045e3",
   "metadata": {},
   "source": [
    "# Evaluation"
   ]
  },
  {
   "cell_type": "code",
   "execution_count": 67,
   "id": "c4d6b678",
   "metadata": {
    "scrolled": true
   },
   "outputs": [
    {
     "name": "stdout",
     "output_type": "stream",
     "text": [
      "Training Score: 0.755729919471402\n",
      "Testing Score: 0.6358381502890174\n"
     ]
    }
   ],
   "source": [
    "print(\"Training Score:\", lg.score(xtrain,ytrain))\n",
    "print(\"Testing Score:\", lg.score(xtest,ytest))"
   ]
  },
  {
   "cell_type": "code",
   "execution_count": 23,
   "id": "b058a4c9",
   "metadata": {
    "scrolled": true
   },
   "outputs": [
    {
     "name": "stdout",
     "output_type": "stream",
     "text": [
      "Training Score: 0.858765228164361\n",
      "Testing Score: 0.7696118909991743\n"
     ]
    }
   ],
   "source": [
    "print(\"Training Score:\", sv.score(xtrain, ytrain))\n",
    "print(\"Testing Score:\", sv.score(xtest, ytest))"
   ]
  },
  {
   "cell_type": "code",
   "execution_count": null,
   "id": "87cb9b2c",
   "metadata": {},
   "outputs": [],
   "source": []
  }
 ],
 "metadata": {
  "kernelspec": {
   "display_name": "Python 3 (ipykernel)",
   "language": "python",
   "name": "python3"
  },
  "language_info": {
   "codemirror_mode": {
    "name": "ipython",
    "version": 3
   },
   "file_extension": ".py",
   "mimetype": "text/x-python",
   "name": "python",
   "nbconvert_exporter": "python",
   "pygments_lexer": "ipython3",
   "version": "3.9.12"
  }
 },
 "nbformat": 4,
 "nbformat_minor": 5
}
