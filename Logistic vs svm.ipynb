{
 "cells": [
  {
   "cell_type": "code",
   "execution_count": null,
   "id": "514bb1fe",
   "metadata": {},
   "outputs": [],
   "source": [
    "import warnings\n",
    "from sklearn.svm import SVC\n",
    "from sklearn.linear_model import LogisticRegression\n",
    "from sklearn.decomposition import PCA\n",
    "import cv2\n",
    "import numpy as np\n",
    "import pandas as pd\n",
    "import matplotlib.pyplot as plt\n",
    "from sklearn.model_selection import train_test_split\n",
    "from sklearn.metrics import accuracy_score\n",
    "import os\n",
    "import pickle\n",
    "\n",
    "# Import data\n",
    "path = os.listdir(\n",
    "    r'C:\\Users\\Abhishek Patwardhan\\Desktop\\TE-Project\\BTWebsite\\DataSet\\Training')\n",
    "classes = {'glioma_tumor': 0, 'meningioma_tumor': 1,\n",
    "           'no_tumor': 2, 'pituitary_tumor': 3}\n",
    "\n",
    "X = []\n",
    "Y = []\n",
    "for cls in classes:\n",
    "    # pth = r'C:\\Users\\Abhishek Patwardhan\\Desktop\\TE-Project\\DataSet\\Training'+cls\n",
    "    if cls == \"glioma_tumor\":\n",
    "        pth = r\"C:\\Users\\Abhishek Patwardhan\\Desktop\\TE-Project\\BTWebsite\\DataSet\\Training\\glioma_tumor\"\n",
    "    elif cls == \"meningioma_tumor\":\n",
    "        pth = r\"C:\\Users\\Abhishek Patwardhan\\Desktop\\TE-Project\\BTWebsite\\DataSet\\Training\\meningioma_tumor\"\n",
    "    elif cls == \"no_tumor\":\n",
    "        pth = r\"C:\\Users\\Abhishek Patwardhan\\Desktop\\TE-Project\\BTWebsite\\DataSet\\Training\\no_tumor\"\n",
    "    elif cls == \"pituitary_tumor\":\n",
    "        pth = r\"C:\\Users\\Abhishek Patwardhan\\Desktop\\TE-Project\\BTWebsite\\DataSet\\Training\\pituitary_tumor\"\n",
    "\n",
    "    for j in os.listdir(pth):\n",
    "        img = cv2.imread(pth+'/'+j, 0)\n",
    "        img = cv2.resize(img, (200, 200))\n",
    "        X.append(img)\n",
    "        Y.append(classes[cls])\n",
    "\n",
    "print(np.unique(Y))\n",
    "\n",
    "X = np.array(X)\n",
    "Y = np.array(Y)\n",
    "\n",
    "print(pd.Series(Y).value_counts())\n",
    "\n",
    "X.shape\n",
    "\n",
    "# Visualize Data - To check particular image\n",
    "# plt.imshow(X[0], cmap='gray')\n",
    "# plt.show()\n",
    "\n",
    "# Prepare Data\n",
    "X_updated = X.reshape(len(X), -1)\n",
    "print(X_updated.shape)\n",
    "\n",
    "# Split Data\n",
    "xtrain, xtest, ytrain, ytest = train_test_split(\n",
    "    X_updated, Y, random_state=10, test_size=.20)\n",
    "\n",
    "print(xtrain.shape, xtest.shape)\n",
    "\n",
    "\n",
    "# Feature Scaling\n",
    "print(xtrain.max(), xtrain.min())\n",
    "print(xtest.max(), xtest.min())\n",
    "xtrain = xtrain/255\n",
    "xtest = xtest/255\n",
    "print(xtrain.max(), xtrain.min())\n",
    "print(xtest.max(), xtest.min())\n",
    "\n",
    "\n",
    "# Feature Selection : PCA\n",
    "print(xtrain.shape, xtest.shape)\n",
    "\n",
    "pca = PCA(.98)\n",
    "# pca_train = pca.fit_transform(xtrain)\n",
    "# pca_test = pca.transform(xtest)\n",
    "pca_train = xtrain\n",
    "pca_test = xtest\n",
    "\n",
    "\n",
    "# Train Model\n",
    "warnings.filterwarnings('ignore')\n",
    "\n",
    "lg = LogisticRegression(C=0.1)\n",
    "lg.fit(pca_train, ytrain)\n",
    "\n",
    "\n",
    "sv = SVC()\n",
    "sv.fit(pca_train, ytrain)\n",
    "\n",
    "\n",
    "# Evaluation\n",
    "# print(\"Training Score : \", lg.score(pca_train, ytrain))\n",
    "# print(\"Testing Score : \", lg.score(pca_test, ytest))\n",
    "\n",
    "# print(\"Training Score : \", sv.score(pca_train, ytrain))\n",
    "# print(\"Testing Score : \", sv.score(pca_test, ytest))\n",
    "\n",
    "# Prediction\n",
    "pred = sv.predict(pca_test)\n",
    "print(np.where(ytest != pred))\n",
    "\n",
    "# plt.scatter(xtrain,ytrain,c=ytrain,cmap='rainbow')\n",
    "# plt.title('Scatter Plot')\n",
    "# plt.show()\n",
    "\n",
    "# Test Model\n",
    "dec = {0: 'glioma_tumor', 1: 'meningioma_tumor',\n",
    "       2: 'no_tumor', 3: 'pituitary_tumor'}\n",
    "\n",
    "plt.figure(figsize=(12, 8))\n",
    "p = os.listdir(\n",
    "    r'C:/Users/Abhishek Patwardhan/Desktop/TE-Project\\BTWebsite/DataSet/Testing/')\n",
    "c = 1\n",
    "for i in os.listdir(r'C:/Users/Abhishek Patwardhan/Desktop/TE-Project\\BTWebsite/DataSet/Testing/Unseen/')[:16]:\n",
    "    plt.subplot(4, 4, c)\n",
    "\n",
    "    img = cv2.imread(\n",
    "        r'C:/Users/Abhishek Patwardhan/Desktop/TE-Project\\BTWebsite/DataSet/Testing/Unseen/'+i, 0)\n",
    "    img1 = cv2.resize(img, (200, 200))\n",
    "    img1 = img1.reshape(1, -1)/255\n",
    "    p = lg.predict(img1)\n",
    "    plt.title(dec[p[0]])\n",
    "    plt.imshow(img, cmap='gray')\n",
    "    plt.axis('off')\n",
    "    c += 1\n",
    "plt.show()\n",
    "\n",
    "\n",
    "\n",
    "filename = 'BT-model'\n",
    "pickle.dump(lg,open(filename,'wb'))"
   ]
  },
  {
   "cell_type": "code",
   "execution_count": 1,
   "id": "43d488c3",
   "metadata": {},
   "outputs": [],
   "source": [
    "import warnings\n",
    "from sklearn.svm import SVC\n",
    "from sklearn.linear_model import LogisticRegression\n",
    "from sklearn.decomposition import PCA\n",
    "import cv2\n",
    "import numpy as np\n",
    "import pandas as pd\n",
    "import matplotlib.pyplot as plt\n",
    "from sklearn.model_selection import train_test_split\n",
    "from sklearn.metrics import accuracy_score\n",
    "import os\n",
    "import pickle"
   ]
  },
  {
   "cell_type": "code",
   "execution_count": 3,
   "id": "02b23c46",
   "metadata": {},
   "outputs": [],
   "source": [
    "# Import data\n",
    "path = os.listdir(\n",
    "    r'C:\\Users\\SANIA\\OneDrive\\Desktop\\ML\\Lung Disease Dataset\\train')\n",
    "classes = {'Bacterial Pneumonia': 0, 'Corona Virus Disease': 1,\n",
    "           'Normal': 2, 'Tuberculosis': 3, 'Viral Pneumonia': 4}"
   ]
  },
  {
   "cell_type": "code",
   "execution_count": 4,
   "id": "913596b4",
   "metadata": {},
   "outputs": [
    {
     "name": "stdout",
     "output_type": "stream",
     "text": [
      "[0 1 2 3 4]\n",
      "3    1220\n",
      "1    1218\n",
      "2    1207\n",
      "0    1205\n",
      "4    1204\n",
      "dtype: int64\n"
     ]
    },
    {
     "data": {
      "text/plain": [
       "(6054, 200, 200)"
      ]
     },
     "execution_count": 4,
     "metadata": {},
     "output_type": "execute_result"
    }
   ],
   "source": [
    "X = []\n",
    "Y = []\n",
    "for cls in classes:\n",
    "    pth = r'C:\\Users\\SANIA\\OneDrive\\Desktop\\ML\\Lung Disease Dataset\\train'+cls\n",
    "    if cls == \"Bacterial Pneumonia\":\n",
    "        pth = r\"C:\\Users\\SANIA\\OneDrive\\Desktop\\ML\\Lung Disease Dataset\\train\\Bacterial Pneumonia\"\n",
    "    elif cls == \"Corona Virus Disease\":\n",
    "        pth = r\"C:\\Users\\SANIA\\OneDrive\\Desktop\\ML\\Lung Disease Dataset\\train\\Corona Virus Disease\"\n",
    "    elif cls == \"Normal\":\n",
    "        pth = r\"C:\\Users\\SANIA\\OneDrive\\Desktop\\ML\\Lung Disease Dataset\\train\\Normal\"\n",
    "    elif cls == \"Tuberculosis\":\n",
    "        pth = r\"C:\\Users\\SANIA\\OneDrive\\Desktop\\ML\\Lung Disease Dataset\\train\\Tuberculosis\"\n",
    "    elif cls == \"Viral Pneumonia\":\n",
    "        pth = r\"C:\\Users\\SANIA\\OneDrive\\Desktop\\ML\\Lung Disease Dataset\\train\\Viral Pneumonia\"\n",
    "\n",
    "    for j in os.listdir(pth):\n",
    "        img = cv2.imread(pth+'/'+j, 0)\n",
    "        img = cv2.resize(img, (200, 200))\n",
    "        X.append(img)\n",
    "        Y.append(classes[cls])\n",
    "\n",
    "print(np.unique(Y))\n",
    "\n",
    "X = np.array(X)\n",
    "Y = np.array(Y)\n",
    "\n",
    "print(pd.Series(Y).value_counts())\n",
    "\n",
    "X.shape"
   ]
  },
  {
   "cell_type": "code",
   "execution_count": null,
   "id": "183f1225",
   "metadata": {},
   "outputs": [],
   "source": []
  },
  {
   "cell_type": "code",
   "execution_count": 5,
   "id": "54c1ab8c",
   "metadata": {},
   "outputs": [
    {
     "data": {
      "image/png": "[encoded data removed]",
      "text/plain": [
       "<Figure size 432x288 with 1 Axes>"
      ]
     },
     "metadata": {
      "needs_background": "light"
     },
     "output_type": "display_data"
    }
   ],
   "source": [
    "# Visualize Data - To check particular image\n",
    "plt.imshow(X[150], cmap='pink')\n",
    "plt.show()\n"
   ]
  },
  {
   "cell_type": "code",
   "execution_count": null,
   "id": "a62b0b1d",
   "metadata": {},
   "outputs": [],
   "source": []
  },
  {
   "cell_type": "code",
   "execution_count": 6,
   "id": "6f66a856",
   "metadata": {},
   "outputs": [
    {
     "name": "stdout",
     "output_type": "stream",
     "text": [
      "(6054, 40000)\n"
     ]
    }
   ],
   "source": [
    "# Prepare Data\n",
    "X_updated = X.reshape(len(X), -1)\n",
    "print(X_updated.shape)"
   ]
  },
  {
   "cell_type": "markdown",
   "id": "1cd4ea8a",
   "metadata": {},
   "source": [
    "# SPLITTING THE DATA"
   ]
  },
  {
   "cell_type": "code",
   "execution_count": 7,
   "id": "16d356db",
   "metadata": {},
   "outputs": [
    {
     "name": "stdout",
     "output_type": "stream",
     "text": [
      "(4843, 40000) (1211, 40000)\n"
     ]
    }
   ],
   "source": [
    "\n",
    "xtrain, xtest, ytrain, ytest = train_test_split(\n",
    "    X_updated, Y, random_state=10, test_size=.20)\n",
    "\n",
    "print(xtrain.shape, xtest.shape)"
   ]
  },
  {
   "cell_type": "code",
   "execution_count": 7,
   "id": "93e1600d",
   "metadata": {},
   "outputs": [
    {
     "name": "stdout",
     "output_type": "stream",
     "text": [
      "255 0\n",
      "255 0\n",
      "1.0 0.0\n",
      "1.0 0.0\n"
     ]
    }
   ],
   "source": [
    "# Feature Scaling\n",
    "print(xtrain.max(), xtrain.min())\n",
    "print(xtest.max(), xtest.min())\n",
    "xtrain = xtrain/255\n",
    "xtest = xtest/255\n",
    "print(xtrain.max(), xtrain.min())\n",
    "print(xtest.max(), xtest.min())\n"
   ]
  },
  {
   "cell_type": "code",
   "execution_count": 8,
   "id": "79a1b2a2",
   "metadata": {},
   "outputs": [
    {
     "name": "stdout",
     "output_type": "stream",
     "text": [
      "(4843, 40000) (1211, 40000)\n"
     ]
    }
   ],
   "source": [
    "# Feature Selection : PCA\n",
    "print(xtrain.shape, xtest.shape)\n",
    "\n",
    "pca = PCA(.98)\n",
    "#pca_train = pca.fit_transform(xtrain)\n",
    "#pca_test = pca.transform(xtest)\n",
    "pca_train = xtrain\n",
    "pca_test = xtest"
   ]
  },
  {
   "cell_type": "code",
   "execution_count": null,
   "id": "f1f1417e",
   "metadata": {},
   "outputs": [],
   "source": []
  },
  {
   "cell_type": "code",
   "execution_count": 9,
   "id": "4b9244b3",
   "metadata": {},
   "outputs": [
    {
     "data": {
      "text/plain": [
       "LogisticRegression(C=0.1)"
      ]
     },
     "execution_count": 9,
     "metadata": {},
     "output_type": "execute_result"
    }
   ],
   "source": [
    "# Train Model\n",
    "import warnings\n",
    "from sklearn.svm import SVC\n",
    "from sklearn.linear_model import LogisticRegression\n",
    "warnings.filterwarnings('ignore')\n",
    "\n",
    "lg = LogisticRegression(C=0.1)\n",
    "lg.fit(xtrain, ytrain)\n",
    "\n"
   ]
  },
  {
   "cell_type": "markdown",
   "id": "b6c1e4d8",
   "metadata": {},
   "source": [
    "# EVALUATION(LG)"
   ]
  },
  {
   "cell_type": "code",
   "execution_count": 10,
   "id": "91afad85",
   "metadata": {},
   "outputs": [
    {
     "name": "stdout",
     "output_type": "stream",
     "text": [
      "Training Score :  0.755729919471402\n",
      "Testing Score :  0.6358381502890174\n"
     ]
    }
   ],
   "source": [
    "# Evaluation\n",
    "print(\"Training Score : \", lg.score(xtrain, ytrain))\n",
    "print(\"Testing Score : \", lg.score(xtest, ytest))"
   ]
  },
  {
   "cell_type": "code",
   "execution_count": 12,
   "id": "75cd6c29",
   "metadata": {},
   "outputs": [],
   "source": [
    "pred=lg.predict(xtest)"
   ]
  },
  {
   "cell_type": "code",
   "execution_count": 13,
   "id": "b5b5b359",
   "metadata": {},
   "outputs": [
    {
     "data": {
      "text/plain": [
       "(array([   6,    7,    9,   11,   14,   15,   16,   18,   19,   24,   28,\n",
       "          29,   31,   35,   38,   41,   46,   48,   49,   53,   58,   64,\n",
       "          66,   68,   79,   81,   82,   83,   84,   85,   86,   90,   94,\n",
       "          97,  104,  105,  107,  110,  118,  141,  143,  145,  146,  147,\n",
       "         152,  153,  154,  157,  159,  160,  164,  166,  177,  178,  179,\n",
       "         183,  184,  185,  186,  188,  189,  192,  195,  198,  205,  207,\n",
       "         211,  212,  214,  216,  217,  218,  219,  220,  221,  235,  237,\n",
       "         239,  241,  242,  246,  247,  248,  249,  250,  255,  256,  258,\n",
       "         260,  262,  266,  267,  270,  272,  275,  278,  279,  282,  285,\n",
       "         292,  293,  295,  297,  298,  300,  301,  302,  307,  308,  309,\n",
       "         310,  311,  313,  317,  320,  327,  332,  336,  337,  338,  341,\n",
       "         344,  345,  346,  347,  348,  351,  353,  354,  356,  357,  360,\n",
       "         361,  367,  368,  371,  372,  373,  374,  377,  378,  379,  395,\n",
       "         398,  399,  405,  408,  411,  416,  418,  421,  422,  428,  430,\n",
       "         432,  444,  450,  455,  459,  462,  463,  467,  469,  474,  480,\n",
       "         485,  488,  494,  497,  500,  501,  502,  503,  504,  505,  506,\n",
       "         513,  514,  530,  531,  533,  536,  537,  538,  539,  543,  546,\n",
       "         549,  556,  558,  559,  561,  565,  566,  569,  570,  572,  578,\n",
       "         579,  581,  582,  583,  585,  588,  589,  591,  595,  599,  601,\n",
       "         604,  605,  606,  608,  615,  616,  621,  624,  626,  627,  628,\n",
       "         630,  631,  632,  633,  634,  635,  636,  641,  642,  645,  646,\n",
       "         647,  649,  650,  651,  655,  657,  662,  671,  674,  680,  681,\n",
       "         683,  684,  685,  686,  688,  693,  694,  701,  702,  705,  706,\n",
       "         707,  708,  714,  715,  717,  720,  729,  731,  737,  744,  756,\n",
       "         759,  767,  770,  771,  772,  778,  782,  785,  788,  790,  793,\n",
       "         796,  799,  801,  803,  806,  810,  813,  814,  817,  819,  825,\n",
       "         826,  827,  829,  830,  832,  834,  837,  842,  844,  845,  847,\n",
       "         850,  851,  853,  855,  857,  861,  862,  867,  872,  874,  877,\n",
       "         879,  880,  881,  886,  888,  889,  890,  892,  894,  895,  899,\n",
       "         900,  904,  906,  908,  913,  917,  918,  924,  926,  929,  930,\n",
       "         931,  932,  936,  938,  945,  951,  952,  954,  955,  965,  967,\n",
       "         969,  970,  971,  974,  975,  977,  978,  979,  981,  982,  983,\n",
       "         987,  992,  993,  995, 1001, 1002, 1010, 1011, 1014, 1015, 1016,\n",
       "        1024, 1026, 1027, 1031, 1032, 1035, 1036, 1041, 1042, 1045, 1047,\n",
       "        1052, 1054, 1055, 1058, 1064, 1067, 1068, 1070, 1074, 1077, 1082,\n",
       "        1084, 1088, 1095, 1096, 1097, 1098, 1101, 1102, 1104, 1105, 1107,\n",
       "        1108, 1109, 1111, 1114, 1115, 1116, 1118, 1119, 1120, 1121, 1124,\n",
       "        1126, 1132, 1133, 1134, 1135, 1138, 1139, 1141, 1142, 1144, 1149,\n",
       "        1152, 1154, 1155, 1159, 1164, 1170, 1173, 1175, 1179, 1181, 1184,\n",
       "        1185, 1187, 1188, 1189, 1191, 1193, 1198, 1200, 1201, 1203, 1205,\n",
       "        1206], dtype=int64),)"
      ]
     },
     "execution_count": 13,
     "metadata": {},
     "output_type": "execute_result"
    }
   ],
   "source": [
    "misclassified=np.where(ytest!=pred)\n",
    "misclassified"
   ]
  },
  {
   "cell_type": "code",
   "execution_count": 14,
   "id": "0e47fe28",
   "metadata": {},
   "outputs": [
    {
     "name": "stdout",
     "output_type": "stream",
     "text": [
      "Total Misclassified Samples: 441\n",
      "3 0\n"
     ]
    }
   ],
   "source": [
    "print(\"Total Misclassified Samples:\", len(misclassified[0]))\n",
    "print(pred[351], ytest[351])"
   ]
  },
  {
   "cell_type": "code",
   "execution_count": 15,
   "id": "a24e859f",
   "metadata": {},
   "outputs": [
    {
     "data": {
      "text/plain": [
       "<AxesSubplot:>"
      ]
     },
     "execution_count": 15,
     "metadata": {},
     "output_type": "execute_result"
    },
    {
     "data": {
      "image/png": "[encoded data removed]",
      "text/plain": [
       "<Figure size 432x288 with 2 Axes>"
      ]
     },
     "metadata": {
      "needs_background": "light"
     },
     "output_type": "display_data"
    }
   ],
   "source": [
    "from sklearn.metrics import classification_report,confusion_matrix\n",
    "\n",
    "cm = pd.DataFrame(data=confusion_matrix(ytest, pred, labels = [0,1,2,3,4]),\n",
    "                  index=[\"Actual Bacterial Pneumonia\",\"Actual Corona Virus\",\"Actual Normal\",\"Actual Tuberculosis\", \"Actual Viral Pneumonia\"],\n",
    "                  columns=[\"Predicted Bacterial Pneumonia\",\"Predicted Corona Virus\",\"Predicted Normal\",\"Predicted Tuberculosis\", \"Predicted Viral Pneumonia\"])\n",
    "import seaborn as sns\n",
    "sns.heatmap(cm,annot=True,fmt=\"d\")\n",
    " "
   ]
  },
  {
   "cell_type": "code",
   "execution_count": 16,
   "id": "e0e96088",
   "metadata": {},
   "outputs": [
    {
     "name": "stdout",
     "output_type": "stream",
     "text": [
      "                     precision    recall  f1-score   support\n",
      "\n",
      "BACTERIAL PNEUMONIA       0.61      0.60      0.60       265\n",
      "             CORONA       0.73      0.76      0.74       241\n",
      "             NORMAL       0.75      0.68      0.71       243\n",
      "       TUBERCULOSIS       0.59      0.59      0.59       239\n",
      "    VIRAL PNEUMONIA       0.51      0.56      0.53       223\n",
      "\n",
      "           accuracy                           0.64      1211\n",
      "          macro avg       0.64      0.64      0.64      1211\n",
      "       weighted avg       0.64      0.64      0.64      1211\n",
      "\n"
     ]
    }
   ],
   "source": [
    "from sklearn import metrics\n",
    "classification_metrics = metrics.classification_report(ytest, pred,\n",
    "                                                      target_names =['BACTERIAL PNEUMONIA','CORONA','NORMAL','TUBERCULOSIS','VIRAL PNEUMONIA'])\n",
    "print(classification_metrics)"
   ]
  },
  {
   "cell_type": "code",
   "execution_count": null,
   "id": "3d2e14e3",
   "metadata": {},
   "outputs": [],
   "source": []
  },
  {
   "cell_type": "code",
   "execution_count": 12,
   "id": "fbeca7ac",
   "metadata": {},
   "outputs": [
    {
     "data": {
      "text/plain": [
       "SVC(C=0.1)"
      ]
     },
     "execution_count": 12,
     "metadata": {},
     "output_type": "execute_result"
    }
   ],
   "source": [
    "warnings.filterwarnings('ignore')\n",
    "sv = SVC(C=0.1)\n",
    "sv.fit(xtrain, ytrain)"
   ]
  },
  {
   "cell_type": "markdown",
   "id": "67cb7d4b",
   "metadata": {},
   "source": [
    "# EVALUATION(SVM)"
   ]
  },
  {
   "cell_type": "code",
   "execution_count": 14,
   "id": "405270d8",
   "metadata": {},
   "outputs": [
    {
     "name": "stdout",
     "output_type": "stream",
     "text": [
      "Training Score :  0.7160850712368366\n",
      "Testing Score :  0.7027250206440958\n"
     ]
    }
   ],
   "source": [
    "print(\"Training Score : \", sv.score(xtrain, ytrain))\n",
    "print(\"Testing Score : \", sv.score(xtest, ytest))"
   ]
  },
  {
   "cell_type": "markdown",
   "id": "2e3a6696",
   "metadata": {},
   "source": []
  },
  {
   "cell_type": "code",
   "execution_count": null,
   "id": "37dfa0f2",
   "metadata": {},
   "outputs": [],
   "source": [
    "# Prediction\n",
    "pred = sv.predict(pca_test)\n",
    "print(np.where(ytest != pred))\n",
    "\n",
    "plt.scatter(xtrain,ytrain,c=ytrain,cmap='rainbow')\n",
    "plt.title('Scatter Plot')\n",
    "plt.show()\n"
   ]
  },
  {
   "cell_type": "code",
   "execution_count": null,
   "id": "2e9ee301",
   "metadata": {},
   "outputs": [],
   "source": []
  },
  {
   "cell_type": "code",
   "execution_count": 18,
   "id": "25c764ad",
   "metadata": {},
   "outputs": [
    {
     "ename": "error",
     "evalue": "OpenCV(4.6.0) D:\\a\\opencv-python\\opencv-python\\opencv\\modules\\imgproc\\src\\resize.cpp:4052: error: (-215:Assertion failed) !ssize.empty() in function 'cv::resize'\n",
     "output_type": "error",
     "traceback": [
      "\u001b[1;31m---------------------------------------------------------------------------\u001b[0m",
      "\u001b[1;31merror\u001b[0m                                     Traceback (most recent call last)",
      "\u001b[1;32m~\\AppData\\Local\\Temp/ipykernel_3160/1096057808.py\u001b[0m in \u001b[0;36m<module>\u001b[1;34m\u001b[0m\n\u001b[0;32m     12\u001b[0m     img = cv2.imread(\n\u001b[0;32m     13\u001b[0m         r'C:\\Users\\SANIA\\OneDrive\\Desktop\\ML\\Lung Disease Dataset\\test\\Normal'+i, 0)\n\u001b[1;32m---> 14\u001b[1;33m     \u001b[0mimg1\u001b[0m \u001b[1;33m=\u001b[0m \u001b[0mcv2\u001b[0m\u001b[1;33m.\u001b[0m\u001b[0mresize\u001b[0m\u001b[1;33m(\u001b[0m\u001b[0mimg\u001b[0m\u001b[1;33m,\u001b[0m \u001b[1;33m(\u001b[0m\u001b[1;36m200\u001b[0m\u001b[1;33m,\u001b[0m \u001b[1;36m200\u001b[0m\u001b[1;33m)\u001b[0m\u001b[1;33m)\u001b[0m\u001b[1;33m\u001b[0m\u001b[1;33m\u001b[0m\u001b[0m\n\u001b[0m\u001b[0;32m     15\u001b[0m     \u001b[0mimg1\u001b[0m \u001b[1;33m=\u001b[0m \u001b[0mimg1\u001b[0m\u001b[1;33m.\u001b[0m\u001b[0mreshape\u001b[0m\u001b[1;33m(\u001b[0m\u001b[1;36m1\u001b[0m\u001b[1;33m,\u001b[0m \u001b[1;33m-\u001b[0m\u001b[1;36m1\u001b[0m\u001b[1;33m)\u001b[0m\u001b[1;33m/\u001b[0m\u001b[1;36m255\u001b[0m\u001b[1;33m\u001b[0m\u001b[1;33m\u001b[0m\u001b[0m\n\u001b[0;32m     16\u001b[0m     \u001b[0mp\u001b[0m \u001b[1;33m=\u001b[0m \u001b[0mlg\u001b[0m\u001b[1;33m.\u001b[0m\u001b[0mpredict\u001b[0m\u001b[1;33m(\u001b[0m\u001b[0mimg1\u001b[0m\u001b[1;33m)\u001b[0m\u001b[1;33m\u001b[0m\u001b[1;33m\u001b[0m\u001b[0m\n",
      "\u001b[1;31merror\u001b[0m: OpenCV(4.6.0) D:\\a\\opencv-python\\opencv-python\\opencv\\modules\\imgproc\\src\\resize.cpp:4052: error: (-215:Assertion failed) !ssize.empty() in function 'cv::resize'\n"
     ]
    },
    {
     "data": {
      "image/png": "[encoded data removed]",
      "text/plain": [
       "<Figure size 864x576 with 1 Axes>"
      ]
     },
     "metadata": {
      "needs_background": "light"
     },
     "output_type": "display_data"
    }
   ],
   "source": [
    "# Test Model\n",
    "dec = {'Bacterial Pneumonia': 0, 'Corona Virus Disease': 1,\n",
    "           'Normal': 2, 'Tuberculosis': 3, 'Viral Pneumonia': 4}\n",
    "\n",
    "plt.figure(figsize=(12, 8))\n",
    "p = os.listdir(\n",
    "    r'C:\\Users\\SANIA\\OneDrive\\Desktop\\ML\\Lung Disease Dataset\\test')\n",
    "c = 1\n",
    "for i in os.listdir(r'C:\\Users\\SANIA\\OneDrive\\Desktop\\ML\\Lung Disease Dataset\\test\\Normal')[:16]:\n",
    "    plt.subplot(4, 4, c)\n",
    "\n",
    "    img = cv2.imread(\n",
    "        r'C:\\Users\\SANIA\\OneDrive\\Desktop\\ML\\Lung Disease Dataset\\test\\Normal'+i, 0)\n",
    "    img1 = cv2.resize(img, (200, 200))\n",
    "    img1 = img1.reshape(1, -1)/255\n",
    "    p = lg.predict(img1)\n",
    "    plt.title(dec[p[0]])\n",
    "    plt.imshow(img, cmap='gray')\n",
    "    plt.axis('off')\n",
    "    c += 1\n",
    "plt.show()\n",
    "\n",
    "\n",
    "\n",
    "filename = 'model'\n",
    "pickle.dump(lg,open(filename,'wb'))"
   ]
  },
  {
   "cell_type": "code",
   "execution_count": 19,
   "id": "7b9c2c65",
   "metadata": {},
   "outputs": [],
   "source": [
    "pred=sv.predict(xtest)\n"
   ]
  },
  {
   "cell_type": "code",
   "execution_count": null,
   "id": "ab719abe",
   "metadata": {},
   "outputs": [],
   "source": []
  },
  {
   "cell_type": "code",
   "execution_count": 20,
   "id": "1faa5b7f",
   "metadata": {},
   "outputs": [
    {
     "data": {
      "text/plain": [
       "(array([   6,    9,   11,   14,   15,   16,   18,   28,   29,   31,   46,\n",
       "          48,   49,   53,   58,   60,   66,   72,   76,   79,   80,   81,\n",
       "          84,   90,  100,  104,  105,  107,  110,  113,  132,  135,  138,\n",
       "         143,  145,  146,  147,  148,  151,  152,  153,  154,  155,  159,\n",
       "         164,  166,  173,  177,  179,  183,  184,  185,  186,  187,  188,\n",
       "         189,  192,  193,  198,  202,  205,  211,  212,  214,  216,  217,\n",
       "         220,  225,  229,  234,  235,  236,  237,  239,  242,  246,  248,\n",
       "         250,  256,  258,  259,  260,  262,  264,  266,  267,  270,  275,\n",
       "         279,  282,  285,  286,  292,  293,  295,  298,  301,  302,  307,\n",
       "         309,  313,  317,  320,  325,  332,  336,  337,  342,  344,  345,\n",
       "         347,  351,  356,  360,  368,  371,  372,  373,  374,  377,  378,\n",
       "         380,  381,  383,  386,  393,  399,  401,  403,  405,  408,  411,\n",
       "         418,  421,  423,  426,  428,  430,  449,  451,  459,  461,  463,\n",
       "         467,  469,  474,  476,  488,  494,  497,  501,  502,  503,  510,\n",
       "         511,  512,  513,  514,  520,  525,  530,  531,  533,  537,  538,\n",
       "         539,  543,  546,  549,  558,  561,  566,  569,  575,  576,  578,\n",
       "         579,  582,  583,  588,  591,  593,  594,  600,  617,  621,  624,\n",
       "         627,  630,  631,  633,  634,  635,  637,  641,  644,  646,  649,\n",
       "         651,  662,  667,  671,  678,  680,  681,  683,  685,  686,  688,\n",
       "         693,  701,  703,  705,  706,  707,  708,  714,  715,  720,  723,\n",
       "         729,  734,  737,  739,  744,  745,  746,  752,  759,  762,  768,\n",
       "         770,  771,  772,  780,  785,  787,  790,  793,  796,  802,  803,\n",
       "         807,  814,  817,  827,  828,  830,  837,  838,  845,  847,  850,\n",
       "         853,  857,  872,  874,  881,  882,  886,  889,  890,  892,  893,\n",
       "         894,  900,  904,  906,  908,  913,  914,  915,  918,  921,  924,\n",
       "         926,  929,  930,  936,  938,  940,  944,  947,  951,  952,  965,\n",
       "         967,  969,  971,  975,  977,  978,  979,  982,  983,  987,  993,\n",
       "         995,  996,  997, 1002, 1008, 1009, 1011, 1014, 1016, 1024, 1032,\n",
       "        1035, 1036, 1037, 1038, 1042, 1045, 1047, 1050, 1051, 1052, 1054,\n",
       "        1058, 1065, 1067, 1068, 1073, 1074, 1082, 1085, 1093, 1095, 1096,\n",
       "        1101, 1102, 1105, 1107, 1114, 1116, 1118, 1119, 1121, 1126, 1135,\n",
       "        1139, 1141, 1142, 1144, 1152, 1167, 1175, 1176, 1181, 1184, 1187,\n",
       "        1189, 1191, 1198, 1199, 1200, 1201, 1205, 1206], dtype=int64),)"
      ]
     },
     "execution_count": 20,
     "metadata": {},
     "output_type": "execute_result"
    }
   ],
   "source": [
    "misclassified=np.where(ytest!=pred)\n",
    "misclassified"
   ]
  },
  {
   "cell_type": "code",
   "execution_count": 25,
   "id": "a361c6d2",
   "metadata": {},
   "outputs": [
    {
     "name": "stdout",
     "output_type": "stream",
     "text": [
      "Total Misclassified Samples: 360\n",
      "4 0\n"
     ]
    }
   ],
   "source": [
    "print(\"Total Misclassified Samples:\", len(misclassified[0]))\n",
    "print(pred[351], ytest[351])"
   ]
  },
  {
   "cell_type": "code",
   "execution_count": 28,
   "id": "f253dcf2",
   "metadata": {},
   "outputs": [
    {
     "data": {
      "text/plain": [
       "<AxesSubplot:>"
      ]
     },
     "execution_count": 28,
     "metadata": {},
     "output_type": "execute_result"
    },
    {
     "data": {
      "image/png": "[encoded data removed]",
      "text/plain": [
       "<Figure size 432x288 with 2 Axes>"
      ]
     },
     "metadata": {
      "needs_background": "light"
     },
     "output_type": "display_data"
    }
   ],
   "source": [
    "from sklearn.metrics import classification_report,confusion_matrix\n",
    "\n",
    "cm = pd.DataFrame(data=confusion_matrix(ytest, pred, labels = [0,1,2,3,4]),\n",
    "                  index=[\"Actual Bacterial Pneumonia\",\"Actual Corona Virus\",\"Actual Normal\",\"Actual Tuberculosis\", \"Actual Viral Pneumonia\"],\n",
    "                  columns=[\"Predicted Bacterial Pneumonia\",\"Predicted Corona Virus\",\"Predicted Normal\",\"Predicted Tuberculosis\", \"Predicted Viral Pneumonia\"])\n",
    "import seaborn as sns\n",
    "sns.heatmap(cm,annot=True,fmt=\"d\")\n",
    " "
   ]
  },
  {
   "cell_type": "code",
   "execution_count": 31,
   "id": "e225a5a2",
   "metadata": {
    "scrolled": true
   },
   "outputs": [
    {
     "name": "stdout",
     "output_type": "stream",
     "text": [
      "                     precision    recall  f1-score   support\n",
      "\n",
      "BACTERIAL PNEUMONIA       0.70      0.69      0.70       265\n",
      "             CORONA       0.90      0.71      0.79       241\n",
      "             NORMAL       0.83      0.63      0.72       243\n",
      "       TUBERCULOSIS       0.62      0.88      0.73       239\n",
      "    VIRAL PNEUMONIA       0.56      0.59      0.58       223\n",
      "\n",
      "           accuracy                           0.70      1211\n",
      "          macro avg       0.72      0.70      0.70      1211\n",
      "       weighted avg       0.73      0.70      0.70      1211\n",
      "\n"
     ]
    }
   ],
   "source": [
    "from sklearn import metrics\n",
    "classification_metrics = metrics.classification_report(ytest, pred,\n",
    "                                                      target_names =['BACTERIAL PNEUMONIA','CORONA','NORMAL','TUBERCULOSIS','VIRAL PNEUMONIA'])\n",
    "print(classification_metrics)"
   ]
  },
  {
   "cell_type": "code",
   "execution_count": 46,
   "id": "67748237",
   "metadata": {},
   "outputs": [
    {
     "ename": "error",
     "evalue": "OpenCV(4.6.0) D:\\a\\opencv-python\\opencv-python\\opencv\\modules\\imgproc\\src\\resize.cpp:4052: error: (-215:Assertion failed) !ssize.empty() in function 'cv::resize'\n",
     "output_type": "error",
     "traceback": [
      "\u001b[1;31m---------------------------------------------------------------------------\u001b[0m",
      "\u001b[1;31merror\u001b[0m                                     Traceback (most recent call last)",
      "\u001b[1;32m~\\AppData\\Local\\Temp/ipykernel_3160/3709735722.py\u001b[0m in \u001b[0;36m<module>\u001b[1;34m\u001b[0m\n\u001b[0;32m      9\u001b[0m     \u001b[0mplt\u001b[0m\u001b[1;33m.\u001b[0m\u001b[0msubplot\u001b[0m\u001b[1;33m(\u001b[0m\u001b[1;36m3\u001b[0m\u001b[1;33m,\u001b[0m\u001b[1;36m3\u001b[0m\u001b[1;33m,\u001b[0m\u001b[0mc\u001b[0m\u001b[1;33m)\u001b[0m\u001b[1;33m\u001b[0m\u001b[1;33m\u001b[0m\u001b[0m\n\u001b[0;32m     10\u001b[0m     \u001b[0mimg\u001b[0m \u001b[1;33m=\u001b[0m \u001b[0mcv2\u001b[0m\u001b[1;33m.\u001b[0m\u001b[0mimread\u001b[0m\u001b[1;33m(\u001b[0m\u001b[1;34mr'C:\\Users\\SANIA\\OneDrive\\Desktop\\ML\\Lung Disease Dataset\\test\\Corona Virus Disease'\u001b[0m\u001b[1;33m)\u001b[0m\u001b[1;33m\u001b[0m\u001b[1;33m\u001b[0m\u001b[0m\n\u001b[1;32m---> 11\u001b[1;33m     \u001b[0mimg1\u001b[0m \u001b[1;33m=\u001b[0m \u001b[0mcv2\u001b[0m\u001b[1;33m.\u001b[0m\u001b[0mresize\u001b[0m\u001b[1;33m(\u001b[0m\u001b[0mimg\u001b[0m\u001b[1;33m,\u001b[0m\u001b[1;33m(\u001b[0m\u001b[1;36m200\u001b[0m\u001b[1;33m,\u001b[0m\u001b[1;36m200\u001b[0m\u001b[1;33m)\u001b[0m\u001b[1;33m)\u001b[0m\u001b[1;33m\u001b[0m\u001b[1;33m\u001b[0m\u001b[0m\n\u001b[0m\u001b[0;32m     12\u001b[0m \u001b[1;33m\u001b[0m\u001b[0m\n\u001b[0;32m     13\u001b[0m \u001b[1;33m\u001b[0m\u001b[0m\n",
      "\u001b[1;31merror\u001b[0m: OpenCV(4.6.0) D:\\a\\opencv-python\\opencv-python\\opencv\\modules\\imgproc\\src\\resize.cpp:4052: error: (-215:Assertion failed) !ssize.empty() in function 'cv::resize'\n"
     ]
    },
    {
     "data": {
      "image/png": "[encoded data removed]",
      "text/plain": [
       "<Figure size 864x576 with 1 Axes>"
      ]
     },
     "metadata": {
      "needs_background": "light"
     },
     "output_type": "display_data"
    }
   ],
   "source": [
    "\n",
    "\n",
    "\n"
   ]
  },
  {
   "cell_type": "code",
   "execution_count": 71,
   "id": "388a7f33",
   "metadata": {},
   "outputs": [],
   "source": [
    "# Test Model\n",
    "dec= {'Bacterial Pneumonia': 0, 'Corona Virus Disease': 1,\n",
    "           'Normal': 2, 'Tuberculosis': 3, 'Viral Pneumonia': 4}\n",
    "\n"
   ]
  },
  {
   "cell_type": "code",
   "execution_count": 65,
   "id": "b785ada6",
   "metadata": {},
   "outputs": [],
   "source": [
    "import cv2\n",
    "import numpy as np"
   ]
  },
  {
   "cell_type": "code",
   "execution_count": 68,
   "id": "ea9e68d0",
   "metadata": {},
   "outputs": [
    {
     "ename": "error",
     "evalue": "OpenCV(4.6.0) D:\\a\\opencv-python\\opencv-python\\opencv\\modules\\imgproc\\src\\resize.cpp:4052: error: (-215:Assertion failed) !ssize.empty() in function 'cv::resize'\n",
     "output_type": "error",
     "traceback": [
      "\u001b[1;31m---------------------------------------------------------------------------\u001b[0m",
      "\u001b[1;31merror\u001b[0m                                     Traceback (most recent call last)",
      "\u001b[1;32m~\\AppData\\Local\\Temp/ipykernel_3160/3496863617.py\u001b[0m in \u001b[0;36m<module>\u001b[1;34m\u001b[0m\n\u001b[0;32m      7\u001b[0m     \u001b[0mplt\u001b[0m\u001b[1;33m.\u001b[0m\u001b[0msubplot\u001b[0m\u001b[1;33m(\u001b[0m\u001b[1;36m3\u001b[0m\u001b[1;33m,\u001b[0m\u001b[1;36m3\u001b[0m\u001b[1;33m,\u001b[0m\u001b[0mc\u001b[0m\u001b[1;33m)\u001b[0m\u001b[1;33m\u001b[0m\u001b[1;33m\u001b[0m\u001b[0m\n\u001b[0;32m      8\u001b[0m     \u001b[0mimg\u001b[0m \u001b[1;33m=\u001b[0m \u001b[0mcv2\u001b[0m\u001b[1;33m.\u001b[0m\u001b[0mimread\u001b[0m\u001b[1;33m(\u001b[0m\u001b[0mpth\u001b[0m\u001b[1;33m)\u001b[0m\u001b[1;33m\u001b[0m\u001b[1;33m\u001b[0m\u001b[0m\n\u001b[1;32m----> 9\u001b[1;33m     \u001b[0mimg1\u001b[0m \u001b[1;33m=\u001b[0m \u001b[0mcv2\u001b[0m\u001b[1;33m.\u001b[0m\u001b[0mresize\u001b[0m\u001b[1;33m(\u001b[0m\u001b[0mimg\u001b[0m\u001b[1;33m,\u001b[0m \u001b[0mdsize\u001b[0m\u001b[1;33m=\u001b[0m\u001b[1;33m(\u001b[0m\u001b[1;36m200\u001b[0m\u001b[1;33m,\u001b[0m\u001b[1;36m200\u001b[0m\u001b[1;33m)\u001b[0m\u001b[1;33m)\u001b[0m\u001b[1;33m\u001b[0m\u001b[1;33m\u001b[0m\u001b[0m\n\u001b[0m\u001b[0;32m     10\u001b[0m     \u001b[0mpixels\u001b[0m\u001b[1;33m.\u001b[0m\u001b[0mappend\u001b[0m\u001b[1;33m(\u001b[0m\u001b[0mimg1\u001b[0m\u001b[1;33m)\u001b[0m\u001b[1;33m\u001b[0m\u001b[1;33m\u001b[0m\u001b[0m\n\u001b[0;32m     11\u001b[0m     \u001b[0md\u001b[0m \u001b[1;33m=\u001b[0m \u001b[0mlg\u001b[0m\u001b[1;33m.\u001b[0m\u001b[0mpredict\u001b[0m\u001b[1;33m(\u001b[0m\u001b[0mimg1\u001b[0m\u001b[1;33m)\u001b[0m\u001b[1;33m\u001b[0m\u001b[1;33m\u001b[0m\u001b[0m\n",
      "\u001b[1;31merror\u001b[0m: OpenCV(4.6.0) D:\\a\\opencv-python\\opencv-python\\opencv\\modules\\imgproc\\src\\resize.cpp:4052: error: (-215:Assertion failed) !ssize.empty() in function 'cv::resize'\n"
     ]
    },
    {
     "data": {
      "image/png": "[encoded data removed]",
      "text/plain": [
       "<Figure size 864x576 with 1 Axes>"
      ]
     },
     "metadata": {
      "needs_background": "light"
     },
     "output_type": "display_data"
    }
   ],
   "source": [
    "import cv2\n",
    "plt.figure(figsize=(12, 8))\n",
    "p = os.listdir(r'C:\\Users\\SANIA\\OneDrive\\Desktop\\ML\\Lung Disease Dataset\\test')\n",
    "c = 1\n",
    "pth=r'C:\\Users\\SANIA\\OneDrive\\Desktop\\ML\\Lung Disease Dataset\\test\\Normal'\n",
    "for i in os.listdir(pth)[:9]:\n",
    "    plt.subplot(3,3,c)\n",
    "    img = cv2.imread(pth)\n",
    "    img1 = cv2.resize(img, dsize=(200,200))\n",
    "    pixels.append(img1)\n",
    "    d = lg.predict(img1)\n",
    "    plt.title(dec[p[0]])\n",
    "    plt.imshow(img, cmap='gray')\n",
    "    plt.axis('off')\n",
    "    c += 1\n",
    "    \n"
   ]
  },
  {
   "cell_type": "code",
   "execution_count": null,
   "id": "5ed57b6f",
   "metadata": {},
   "outputs": [],
   "source": []
  },
  {
   "cell_type": "code",
   "execution_count": 69,
   "id": "b5a87327",
   "metadata": {},
   "outputs": [
    {
     "name": "stdout",
     "output_type": "stream",
     "text": [
      "ok\n",
      "ok\n",
      "ok\n",
      "ok\n",
      "ok\n",
      "ok\n",
      "ok\n",
      "ok\n",
      "ok\n",
      "ok\n",
      "ok\n",
      "ok\n",
      "ok\n",
      "ok\n",
      "ok\n",
      "ok\n",
      "ok\n",
      "ok\n",
      "ok\n",
      "ok\n",
      "ok\n",
      "ok\n",
      "ok\n",
      "ok\n",
      "ok\n",
      "ok\n",
      "ok\n",
      "ok\n",
      "ok\n",
      "ok\n",
      "ok\n",
      "ok\n",
      "ok\n",
      "ok\n",
      "ok\n",
      "ok\n",
      "ok\n",
      "ok\n",
      "ok\n",
      "ok\n",
      "ok\n",
      "ok\n",
      "ok\n",
      "ok\n",
      "ok\n",
      "ok\n",
      "ok\n",
      "ok\n",
      "ok\n",
      "ok\n",
      "ok\n",
      "ok\n",
      "ok\n",
      "ok\n",
      "ok\n",
      "ok\n",
      "ok\n",
      "ok\n",
      "ok\n",
      "ok\n",
      "ok\n",
      "ok\n",
      "ok\n",
      "ok\n",
      "ok\n",
      "ok\n",
      "ok\n",
      "ok\n",
      "ok\n",
      "ok\n",
      "ok\n",
      "ok\n",
      "ok\n",
      "ok\n",
      "ok\n",
      "ok\n",
      "ok\n",
      "ok\n",
      "ok\n",
      "ok\n",
      "ok\n",
      "ok\n",
      "ok\n",
      "ok\n",
      "ok\n",
      "ok\n",
      "ok\n",
      "ok\n",
      "ok\n",
      "ok\n",
      "ok\n",
      "ok\n",
      "ok\n",
      "ok\n",
      "ok\n",
      "ok\n",
      "ok\n",
      "ok\n",
      "ok\n",
      "ok\n",
      "ok\n",
      "ok\n",
      "ok\n",
      "ok\n",
      "ok\n",
      "ok\n",
      "ok\n",
      "ok\n",
      "ok\n",
      "ok\n",
      "ok\n",
      "ok\n",
      "ok\n",
      "ok\n",
      "ok\n",
      "ok\n",
      "ok\n",
      "ok\n",
      "ok\n",
      "ok\n",
      "ok\n",
      "ok\n",
      "ok\n",
      "ok\n",
      "ok\n",
      "ok\n",
      "ok\n",
      "ok\n",
      "ok\n",
      "ok\n",
      "ok\n",
      "ok\n",
      "ok\n",
      "ok\n",
      "ok\n",
      "ok\n",
      "ok\n",
      "ok\n",
      "ok\n",
      "ok\n",
      "ok\n",
      "ok\n",
      "ok\n",
      "ok\n",
      "ok\n",
      "ok\n",
      "ok\n",
      "ok\n",
      "ok\n",
      "ok\n",
      "ok\n",
      "ok\n",
      "ok\n",
      "ok\n",
      "ok\n",
      "ok\n",
      "ok\n",
      "ok\n",
      "ok\n",
      "ok\n",
      "ok\n",
      "ok\n",
      "ok\n",
      "ok\n",
      "ok\n",
      "ok\n",
      "ok\n",
      "ok\n",
      "ok\n",
      "ok\n",
      "ok\n",
      "ok\n",
      "ok\n",
      "ok\n",
      "ok\n",
      "ok\n",
      "ok\n",
      "ok\n",
      "ok\n",
      "ok\n",
      "ok\n",
      "ok\n",
      "ok\n",
      "ok\n",
      "ok\n",
      "ok\n",
      "ok\n",
      "ok\n",
      "ok\n",
      "ok\n",
      "ok\n",
      "ok\n",
      "ok\n",
      "ok\n",
      "ok\n",
      "ok\n",
      "ok\n",
      "ok\n",
      "ok\n",
      "ok\n",
      "ok\n",
      "ok\n",
      "ok\n",
      "ok\n",
      "ok\n",
      "ok\n",
      "ok\n",
      "ok\n",
      "ok\n",
      "ok\n",
      "ok\n",
      "ok\n",
      "ok\n",
      "ok\n",
      "ok\n",
      "ok\n",
      "ok\n",
      "ok\n",
      "ok\n",
      "ok\n",
      "ok\n",
      "ok\n",
      "ok\n",
      "ok\n",
      "ok\n",
      "ok\n",
      "ok\n",
      "ok\n",
      "ok\n",
      "ok\n",
      "ok\n",
      "ok\n",
      "ok\n",
      "ok\n",
      "ok\n",
      "ok\n",
      "ok\n",
      "ok\n",
      "ok\n",
      "ok\n",
      "ok\n",
      "ok\n",
      "ok\n",
      "ok\n",
      "ok\n",
      "ok\n",
      "ok\n",
      "ok\n",
      "ok\n",
      "ok\n",
      "ok\n",
      "ok\n",
      "ok\n",
      "ok\n",
      "ok\n",
      "ok\n",
      "ok\n",
      "ok\n",
      "ok\n",
      "ok\n",
      "ok\n",
      "ok\n",
      "ok\n",
      "ok\n",
      "ok\n",
      "ok\n",
      "ok\n",
      "ok\n",
      "ok\n",
      "ok\n",
      "ok\n",
      "ok\n",
      "ok\n",
      "ok\n",
      "ok\n",
      "ok\n",
      "ok\n",
      "ok\n",
      "ok\n",
      "ok\n",
      "ok\n",
      "ok\n",
      "ok\n",
      "ok\n",
      "ok\n",
      "ok\n",
      "ok\n",
      "ok\n",
      "ok\n",
      "ok\n",
      "ok\n",
      "ok\n",
      "ok\n",
      "ok\n",
      "ok\n",
      "ok\n",
      "ok\n",
      "ok\n",
      "ok\n",
      "ok\n",
      "ok\n",
      "ok\n",
      "ok\n",
      "ok\n",
      "ok\n",
      "ok\n",
      "ok\n",
      "ok\n",
      "ok\n",
      "ok\n",
      "ok\n",
      "ok\n",
      "ok\n",
      "ok\n",
      "ok\n",
      "ok\n",
      "ok\n",
      "ok\n",
      "ok\n",
      "ok\n",
      "ok\n",
      "ok\n",
      "ok\n",
      "ok\n",
      "ok\n",
      "ok\n",
      "ok\n",
      "ok\n",
      "ok\n",
      "ok\n",
      "ok\n",
      "ok\n",
      "ok\n",
      "ok\n",
      "ok\n",
      "ok\n",
      "ok\n",
      "ok\n",
      "ok\n",
      "ok\n",
      "ok\n",
      "ok\n",
      "ok\n",
      "ok\n",
      "ok\n",
      "ok\n",
      "ok\n",
      "ok\n",
      "ok\n",
      "ok\n",
      "ok\n",
      "ok\n",
      "ok\n",
      "ok\n",
      "ok\n",
      "ok\n",
      "ok\n",
      "ok\n",
      "ok\n",
      "ok\n",
      "ok\n",
      "ok\n",
      "ok\n",
      "ok\n",
      "ok\n",
      "ok\n",
      "ok\n",
      "ok\n",
      "ok\n",
      "ok\n",
      "ok\n",
      "ok\n",
      "ok\n",
      "ok\n",
      "ok\n",
      "ok\n",
      "ok\n",
      "ok\n",
      "ok\n",
      "ok\n",
      "ok\n",
      "ok\n",
      "ok\n",
      "ok\n",
      "ok\n",
      "ok\n",
      "ok\n",
      "ok\n",
      "ok\n",
      "ok\n",
      "ok\n",
      "ok\n",
      "ok\n",
      "ok\n",
      "ok\n",
      "ok\n",
      "ok\n",
      "ok\n",
      "ok\n",
      "ok\n",
      "ok\n",
      "ok\n",
      "ok\n",
      "ok\n"
     ]
    }
   ],
   "source": [
    "import os\n",
    "from PIL import Image\n",
    "\n",
    "img_dir = r'C:\\Users\\SANIA\\OneDrive\\Desktop\\ML\\Lung Disease Dataset\\test\\Normal'\n",
    "for filename in os.listdir(img_dir):\n",
    "    try :\n",
    "        with Image.open(img_dir + \"/\" + filename) as im:\n",
    "             print('ok')\n",
    "    except :\n",
    "        print(img_dir + \"/\" + filename)\n",
    "        os.remove(img_dir + \"/\" + filename)"
   ]
  },
  {
   "cell_type": "code",
   "execution_count": 70,
   "id": "26679604",
   "metadata": {},
   "outputs": [
    {
     "ename": "error",
     "evalue": "OpenCV(4.6.0) D:\\a\\opencv-python\\opencv-python\\opencv\\modules\\imgproc\\src\\resize.cpp:4052: error: (-215:Assertion failed) !ssize.empty() in function 'cv::resize'\n",
     "output_type": "error",
     "traceback": [
      "\u001b[1;31m---------------------------------------------------------------------------\u001b[0m",
      "\u001b[1;31merror\u001b[0m                                     Traceback (most recent call last)",
      "\u001b[1;32m~\\AppData\\Local\\Temp/ipykernel_3160/818499949.py\u001b[0m in \u001b[0;36m<module>\u001b[1;34m\u001b[0m\n\u001b[0;32m      7\u001b[0m     \u001b[0mplt\u001b[0m\u001b[1;33m.\u001b[0m\u001b[0msubplot\u001b[0m\u001b[1;33m(\u001b[0m\u001b[1;36m3\u001b[0m\u001b[1;33m,\u001b[0m\u001b[1;36m3\u001b[0m\u001b[1;33m,\u001b[0m\u001b[0mc\u001b[0m\u001b[1;33m)\u001b[0m\u001b[1;33m\u001b[0m\u001b[1;33m\u001b[0m\u001b[0m\n\u001b[0;32m      8\u001b[0m     \u001b[0mimg\u001b[0m \u001b[1;33m=\u001b[0m \u001b[0mcv2\u001b[0m\u001b[1;33m.\u001b[0m\u001b[0mimread\u001b[0m\u001b[1;33m(\u001b[0m\u001b[0mpth\u001b[0m\u001b[1;33m)\u001b[0m\u001b[1;33m\u001b[0m\u001b[1;33m\u001b[0m\u001b[0m\n\u001b[1;32m----> 9\u001b[1;33m     \u001b[0mimg1\u001b[0m \u001b[1;33m=\u001b[0m \u001b[0mcv2\u001b[0m\u001b[1;33m.\u001b[0m\u001b[0mresize\u001b[0m\u001b[1;33m(\u001b[0m\u001b[0mimg\u001b[0m\u001b[1;33m,\u001b[0m \u001b[0mdsize\u001b[0m\u001b[1;33m=\u001b[0m\u001b[1;33m(\u001b[0m\u001b[1;36m200\u001b[0m\u001b[1;33m,\u001b[0m\u001b[1;36m200\u001b[0m\u001b[1;33m)\u001b[0m\u001b[1;33m)\u001b[0m\u001b[1;33m\u001b[0m\u001b[1;33m\u001b[0m\u001b[0m\n\u001b[0m\u001b[0;32m     10\u001b[0m     \u001b[0mpixels\u001b[0m\u001b[1;33m.\u001b[0m\u001b[0mappend\u001b[0m\u001b[1;33m(\u001b[0m\u001b[0mimg1\u001b[0m\u001b[1;33m)\u001b[0m\u001b[1;33m\u001b[0m\u001b[1;33m\u001b[0m\u001b[0m\n\u001b[0;32m     11\u001b[0m     \u001b[0md\u001b[0m \u001b[1;33m=\u001b[0m \u001b[0mlg\u001b[0m\u001b[1;33m.\u001b[0m\u001b[0mpredict\u001b[0m\u001b[1;33m(\u001b[0m\u001b[0mimg1\u001b[0m\u001b[1;33m)\u001b[0m\u001b[1;33m\u001b[0m\u001b[1;33m\u001b[0m\u001b[0m\n",
      "\u001b[1;31merror\u001b[0m: OpenCV(4.6.0) D:\\a\\opencv-python\\opencv-python\\opencv\\modules\\imgproc\\src\\resize.cpp:4052: error: (-215:Assertion failed) !ssize.empty() in function 'cv::resize'\n"
     ]
    },
    {
     "data": {
      "image/png": "[encoded data removed]",
      "text/plain": [
       "<Figure size 864x576 with 1 Axes>"
      ]
     },
     "metadata": {
      "needs_background": "light"
     },
     "output_type": "display_data"
    }
   ],
   "source": [
    "\n",
    "    "
   ]
  },
  {
   "cell_type": "code",
   "execution_count": null,
   "id": "7ad172b0",
   "metadata": {},
   "outputs": [],
   "source": [
    "# Test Model\n",
    "dec= {'Bacterial Pneumonia': 0, 'Corona Virus Disease': 1,\n",
    "           'Normal': 2, 'Tuberculosis': 3, 'Viral Pneumonia': 4}\n"
   ]
  },
  {
   "cell_type": "code",
   "execution_count": 76,
   "id": "f94fd785",
   "metadata": {},
   "outputs": [
    {
     "name": "stdout",
     "output_type": "stream",
     "text": [
      "None\n"
     ]
    },
    {
     "ename": "error",
     "evalue": "OpenCV(4.6.0) D:\\a\\opencv-python\\opencv-python\\opencv\\modules\\imgproc\\src\\resize.cpp:4052: error: (-215:Assertion failed) !ssize.empty() in function 'cv::resize'\n",
     "output_type": "error",
     "traceback": [
      "\u001b[1;31m---------------------------------------------------------------------------\u001b[0m",
      "\u001b[1;31merror\u001b[0m                                     Traceback (most recent call last)",
      "\u001b[1;32m~\\AppData\\Local\\Temp/ipykernel_3160/333253181.py\u001b[0m in \u001b[0;36m<module>\u001b[1;34m\u001b[0m\n\u001b[0;32m      7\u001b[0m     \u001b[0mimg\u001b[0m \u001b[1;33m=\u001b[0m \u001b[0mcv2\u001b[0m\u001b[1;33m.\u001b[0m\u001b[0mimread\u001b[0m\u001b[1;33m(\u001b[0m\u001b[0mpth\u001b[0m\u001b[1;33m+\u001b[0m\u001b[0mi\u001b[0m\u001b[1;33m,\u001b[0m\u001b[1;36m0\u001b[0m\u001b[1;33m)\u001b[0m\u001b[1;33m\u001b[0m\u001b[1;33m\u001b[0m\u001b[0m\n\u001b[0;32m      8\u001b[0m     \u001b[0mprint\u001b[0m\u001b[1;33m(\u001b[0m\u001b[0mimg\u001b[0m\u001b[1;33m)\u001b[0m\u001b[1;33m\u001b[0m\u001b[1;33m\u001b[0m\u001b[0m\n\u001b[1;32m----> 9\u001b[1;33m     \u001b[0mimg\u001b[0m\u001b[1;33m=\u001b[0m \u001b[0mcv2\u001b[0m\u001b[1;33m.\u001b[0m\u001b[0mresize\u001b[0m\u001b[1;33m(\u001b[0m\u001b[0mimg\u001b[0m\u001b[1;33m,\u001b[0m\u001b[1;33m(\u001b[0m\u001b[1;36m200\u001b[0m\u001b[1;33m,\u001b[0m\u001b[1;36m200\u001b[0m\u001b[1;33m)\u001b[0m\u001b[1;33m)\u001b[0m\u001b[1;33m\u001b[0m\u001b[1;33m\u001b[0m\u001b[0m\n\u001b[0m\u001b[0;32m     10\u001b[0m     \u001b[0mp\u001b[0m\u001b[1;33m=\u001b[0m \u001b[0mlg\u001b[0m\u001b[1;33m.\u001b[0m\u001b[0mpredict\u001b[0m\u001b[1;33m(\u001b[0m\u001b[0mimg1\u001b[0m\u001b[1;33m)\u001b[0m\u001b[1;33m\u001b[0m\u001b[1;33m\u001b[0m\u001b[0m\n\u001b[0;32m     11\u001b[0m     \u001b[0mplt\u001b[0m\u001b[1;33m.\u001b[0m\u001b[0mtitle\u001b[0m\u001b[1;33m(\u001b[0m\u001b[0mdec\u001b[0m\u001b[1;33m[\u001b[0m\u001b[0mp\u001b[0m\u001b[1;33m[\u001b[0m\u001b[1;36m0\u001b[0m\u001b[1;33m]\u001b[0m\u001b[1;33m]\u001b[0m\u001b[1;33m)\u001b[0m\u001b[1;33m\u001b[0m\u001b[1;33m\u001b[0m\u001b[0m\n",
      "\u001b[1;31merror\u001b[0m: OpenCV(4.6.0) D:\\a\\opencv-python\\opencv-python\\opencv\\modules\\imgproc\\src\\resize.cpp:4052: error: (-215:Assertion failed) !ssize.empty() in function 'cv::resize'\n"
     ]
    },
    {
     "data": {
      "text/plain": [
       "<Figure size 864x576 with 0 Axes>"
      ]
     },
     "metadata": {},
     "output_type": "display_data"
    }
   ],
   "source": [
    "import cv2\n",
    "plt.figure(figsize=(12, 8))\n",
    "p= os.listdir(r'C:\\Users\\SANIA\\OneDrive\\Desktop\\ML\\Lung Disease Dataset\\val')\n",
    "c = 1\n",
    "pth=r'C:\\Users\\SANIA\\OneDrive\\Desktop\\ML\\Lung Disease Dataset\\val\\Normal'\n",
    "for i in os.listdir(pth):\n",
    "    img = cv2.imread(pth+i,0)\n",
    "    print(img)\n",
    "    img= cv2.resize(img,(200,200))\n",
    "    p= lg.predict(img1)\n",
    "    plt.title(dec[p[0]])\n",
    "    plt.imshow(img, cmap='gray')\n",
    "    plt.axis('off')\n",
    "    c += 1\n",
    "    "
   ]
  },
  {
   "cell_type": "code",
   "execution_count": null,
   "id": "3c9a0801",
   "metadata": {},
   "outputs": [],
   "source": []
  },
  {
   "cell_type": "code",
   "execution_count": null,
   "id": "aadbd925",
   "metadata": {},
   "outputs": [],
   "source": []
  }
 ],
 "metadata": {
  "kernelspec": {
   "display_name": "Python 3 (ipykernel)",
   "language": "python",
   "name": "python3"
  },
  "language_info": {
   "codemirror_mode": {
    "name": "ipython",
    "version": 3
   },
   "file_extension": ".py",
   "mimetype": "text/x-python",
   "name": "python",
   "nbconvert_exporter": "python",
   "pygments_lexer": "ipython3",
   "version": "3.9.7"
  }
 },
 "nbformat": 4,
 "nbformat_minor": 5
}
